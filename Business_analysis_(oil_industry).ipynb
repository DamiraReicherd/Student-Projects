{
  "cells": [
    {
      "cell_type": "markdown",
      "metadata": {
        "toc": true,
        "id": "ADXytDfyPEGI"
      },
      "source": [
        "<h1>Содерждание<span class=\"tocSkip\"></span></h1>\n",
        "<div class=\"toc\"><ul class=\"toc-item\"><li><span><a href=\"#Описание-проекта\" data-toc-modified-id=\"Описание-проекта-1\"><span class=\"toc-item-num\">1&nbsp;&nbsp;</span>Описание проекта</a></span></li><li><span><a href=\"#Подготовка\" data-toc-modified-id=\"Подготовка-2\"><span class=\"toc-item-num\">2&nbsp;&nbsp;</span>Подготовка</a></span></li><li><span><a href=\"#Загрузка-и-анализ-данных-из-файлов\" data-toc-modified-id=\"Загрузка-и-анализ-данных-из-файлов-3\"><span class=\"toc-item-num\">3&nbsp;&nbsp;</span>Загрузка и анализ данных из файлов</a></span><ul class=\"toc-item\"><li><span><a href=\"#Вывод\" data-toc-modified-id=\"Вывод-3.1\"><span class=\"toc-item-num\">3.1&nbsp;&nbsp;</span>Вывод</a></span></li></ul></li><li><span><a href=\"#Подготовка-данных-для-решения-задач-машинного-обучения\" data-toc-modified-id=\"Подготовка-данных-для-решения-задач-машинного-обучения-4\"><span class=\"toc-item-num\">4&nbsp;&nbsp;</span>Подготовка данных для решения задач машинного обучения</a></span><ul class=\"toc-item\"><li><span><a href=\"#Удаление-несущественных-данных\" data-toc-modified-id=\"Удаление-несущественных-данных-4.1\"><span class=\"toc-item-num\">4.1&nbsp;&nbsp;</span>Удаление несущественных данных</a></span></li><li><span><a href=\"#Разделение-данных-на-выборки\" data-toc-modified-id=\"Разделение-данных-на-выборки-4.2\"><span class=\"toc-item-num\">4.2&nbsp;&nbsp;</span>Разделение данных на выборки</a></span></li><li><span><a href=\"#Масштабирование-числовых-признаков\" data-toc-modified-id=\"Масштабирование-числовых-признаков-4.3\"><span class=\"toc-item-num\">4.3&nbsp;&nbsp;</span>Масштабирование числовых признаков</a></span></li></ul></li><li><span><a href=\"#Обучение-и-проверка-моделей\" data-toc-modified-id=\"Обучение-и-проверка-моделей-5\"><span class=\"toc-item-num\">5&nbsp;&nbsp;</span>Обучение и проверка моделей</a></span><ul class=\"toc-item\"><li><span><a href=\"#Выводы\" data-toc-modified-id=\"Выводы-5.1\"><span class=\"toc-item-num\">5.1&nbsp;&nbsp;</span>Выводы</a></span></li></ul></li><li><span><a href=\"#Подготовка-к-расчёту-прибыли\" data-toc-modified-id=\"Подготовка-к-расчёту-прибыли-6\"><span class=\"toc-item-num\">6&nbsp;&nbsp;</span>Подготовка к расчёту прибыли</a></span><ul class=\"toc-item\"><li><span><a href=\"#Выводы\" data-toc-modified-id=\"Выводы-6.1\"><span class=\"toc-item-num\">6.1&nbsp;&nbsp;</span>Выводы</a></span></li></ul></li><li><span><a href=\"#Расчёт-прибыли-и-рисков\" data-toc-modified-id=\"Расчёт-прибыли-и-рисков-7\"><span class=\"toc-item-num\">7&nbsp;&nbsp;</span>Расчёт прибыли и рисков</a></span><ul class=\"toc-item\"><li><span><a href=\"#Функция-для-расчёта-прибыли\" data-toc-modified-id=\"Функция-для-расчёта-прибыли-7.1\"><span class=\"toc-item-num\">7.1&nbsp;&nbsp;</span>Функция для расчёта прибыли</a></span></li></ul></li><li><span><a href=\"#Выводы\" data-toc-modified-id=\"Выводы-8\"><span class=\"toc-item-num\">8&nbsp;&nbsp;</span>Выводы</a></span></li></ul></div>"
      ]
    },
    {
      "cell_type": "markdown",
      "metadata": {
        "id": "pPglZFuXPEGJ"
      },
      "source": [
        "# Выбор локации для скважины"
      ]
    },
    {
      "cell_type": "markdown",
      "metadata": {
        "id": "6lazf6CdPEGJ"
      },
      "source": [
        "## Описание проекта"
      ]
    },
    {
      "cell_type": "markdown",
      "metadata": {
        "id": "Wed0KtQGPEGJ"
      },
      "source": [
        "Допустим, вы работаете в добывающей компании «ГлавРосГосНефть». Нужно решить, где бурить новую скважину.\n",
        "\n",
        "Вам предоставлены пробы нефти в трёх регионах: в каждом 10 000 месторождений, где измерили качество нефти и объём её запасов. Постройте модель машинного обучения, которая поможет определить регион, где добыча принесёт наибольшую прибыль. Проанализируйте возможную прибыль и риски техникой *Bootstrap.*\n",
        "\n",
        "Шаги для выбора локации:\n",
        "\n",
        "- В избранном регионе ищут месторождения, для каждого определяют значения признаков;\n",
        "- Строят модель и оценивают объём запасов;\n",
        "- Выбирают месторождения с самым высокими оценками значений. Количество месторождений зависит от бюджета компании и стоимости разработки одной скважины;\n",
        "- Прибыль равна суммарной прибыли отобранных месторождений."
      ]
    },
    {
      "cell_type": "markdown",
      "metadata": {
        "id": "RNYdPfQ5PEGJ"
      },
      "source": [
        "## Подготовка"
      ]
    },
    {
      "cell_type": "markdown",
      "metadata": {
        "id": "o0rgxTrrPEGK"
      },
      "source": [
        "Импортируем библиотеки:"
      ]
    },
    {
      "cell_type": "code",
      "execution_count": null,
      "metadata": {
        "id": "QprzNbzYPEGK"
      },
      "outputs": [],
      "source": [
        "import pandas as pd\n",
        "import matplotlib\n",
        "import matplotlib.pyplot as plt\n",
        "import numpy as np\n",
        "import seaborn as sns\n",
        "import warnings\n",
        "import scipy"
      ]
    },
    {
      "cell_type": "markdown",
      "metadata": {
        "id": "_UdlZVXlPEGL"
      },
      "source": [
        "Импортируем инструменты для работы с алгоритмами машинного обучения:"
      ]
    },
    {
      "cell_type": "code",
      "execution_count": null,
      "metadata": {
        "id": "OUO7UT8mPEGL"
      },
      "outputs": [],
      "source": [
        "from sklearn.experimental import enable_halving_search_cv\n",
        "from sklearn.tree import DecisionTreeClassifier\n",
        "from sklearn.ensemble import RandomForestClassifier\n",
        "from sklearn.linear_model import LogisticRegression, LinearRegression\n",
        "from sklearn.model_selection import train_test_split, GridSearchCV, HalvingGridSearchCV, RandomizedSearchCV\n",
        "from sklearn.metrics import mean_squared_error, accuracy_score, classification_report, f1_score, roc_auc_score, roc_curve\n",
        "from sklearn.dummy import DummyClassifier\n",
        "from sklearn.preprocessing import StandardScaler\n",
        "from sklearn.utils import shuffle"
      ]
    },
    {
      "cell_type": "markdown",
      "metadata": {
        "id": "FYUOx-JsPEGM"
      },
      "source": [
        "Устанавливаем параметры:"
      ]
    },
    {
      "cell_type": "code",
      "execution_count": null,
      "metadata": {
        "id": "nJtfEr4GPEGM"
      },
      "outputs": [],
      "source": [
        "pd.options.mode.chained_assignment = None\n",
        "warnings.filterwarnings('ignore')\n",
        "matplotlib.style.use('seaborn-deep')\n",
        "colors = sns.color_palette('crest', 8)"
      ]
    },
    {
      "cell_type": "code",
      "execution_count": null,
      "metadata": {
        "id": "oNYUwjYaPEGM"
      },
      "outputs": [],
      "source": [
        "state = np.random.RandomState(42)"
      ]
    },
    {
      "cell_type": "markdown",
      "metadata": {
        "id": "Znn0QPlsPEGN"
      },
      "source": [
        "## Загрузка и анализ данных из файлов"
      ]
    },
    {
      "cell_type": "code",
      "execution_count": null,
      "metadata": {
        "id": "Wf1AF86fPEGN"
      },
      "outputs": [],
      "source": [
        "df = [None,None,None]"
      ]
    },
    {
      "cell_type": "code",
      "execution_count": null,
      "metadata": {
        "id": "XxbJe89iPEGN"
      },
      "outputs": [],
      "source": [
        "df[0] = pd.read_csv('/datasets/geo_data_0.csv')\n",
        "df[1] = pd.read_csv('/datasets/geo_data_1.csv')\n",
        "df[2] = pd.read_csv('/datasets/geo_data_2.csv')"
      ]
    },
    {
      "cell_type": "code",
      "execution_count": null,
      "metadata": {
        "scrolled": false,
        "id": "ZPu83STnPEGN",
        "outputId": "85c8d972-06c4-4f12-c804-c560cf88546f"
      },
      "outputs": [
        {
          "name": "stdout",
          "output_type": "stream",
          "text": [
            "\n",
            "РЕГИОН  0\n"
          ]
        },
        {
          "data": {
            "text/html": [
              "<div>\n",
              "<style scoped>\n",
              "    .dataframe tbody tr th:only-of-type {\n",
              "        vertical-align: middle;\n",
              "    }\n",
              "\n",
              "    .dataframe tbody tr th {\n",
              "        vertical-align: top;\n",
              "    }\n",
              "\n",
              "    .dataframe thead th {\n",
              "        text-align: right;\n",
              "    }\n",
              "</style>\n",
              "<table border=\"1\" class=\"dataframe\">\n",
              "  <thead>\n",
              "    <tr style=\"text-align: right;\">\n",
              "      <th></th>\n",
              "      <th>id</th>\n",
              "      <th>f0</th>\n",
              "      <th>f1</th>\n",
              "      <th>f2</th>\n",
              "      <th>product</th>\n",
              "    </tr>\n",
              "  </thead>\n",
              "  <tbody>\n",
              "    <tr>\n",
              "      <th>74656</th>\n",
              "      <td>j1upi</td>\n",
              "      <td>-0.508078</td>\n",
              "      <td>0.897598</td>\n",
              "      <td>0.051006</td>\n",
              "      <td>78.893480</td>\n",
              "    </tr>\n",
              "    <tr>\n",
              "      <th>40868</th>\n",
              "      <td>vbcE1</td>\n",
              "      <td>0.211527</td>\n",
              "      <td>0.036053</td>\n",
              "      <td>1.296122</td>\n",
              "      <td>59.724043</td>\n",
              "    </tr>\n",
              "    <tr>\n",
              "      <th>51501</th>\n",
              "      <td>08hB5</td>\n",
              "      <td>0.377138</td>\n",
              "      <td>-0.326809</td>\n",
              "      <td>4.724347</td>\n",
              "      <td>84.855844</td>\n",
              "    </tr>\n",
              "  </tbody>\n",
              "</table>\n",
              "</div>"
            ],
            "text/plain": [
              "          id        f0        f1        f2    product\n",
              "74656  j1upi -0.508078  0.897598  0.051006  78.893480\n",
              "40868  vbcE1  0.211527  0.036053  1.296122  59.724043\n",
              "51501  08hB5  0.377138 -0.326809  4.724347  84.855844"
            ]
          },
          "metadata": {},
          "output_type": "display_data"
        },
        {
          "name": "stdout",
          "output_type": "stream",
          "text": [
            "<class 'pandas.core.frame.DataFrame'>\n",
            "RangeIndex: 100000 entries, 0 to 99999\n",
            "Data columns (total 5 columns):\n",
            " #   Column   Non-Null Count   Dtype  \n",
            "---  ------   --------------   -----  \n",
            " 0   id       100000 non-null  object \n",
            " 1   f0       100000 non-null  float64\n",
            " 2   f1       100000 non-null  float64\n",
            " 3   f2       100000 non-null  float64\n",
            " 4   product  100000 non-null  float64\n",
            "dtypes: float64(4), object(1)\n",
            "memory usage: 3.8+ MB\n"
          ]
        },
        {
          "data": {
            "text/html": [
              "<div>\n",
              "<style scoped>\n",
              "    .dataframe tbody tr th:only-of-type {\n",
              "        vertical-align: middle;\n",
              "    }\n",
              "\n",
              "    .dataframe tbody tr th {\n",
              "        vertical-align: top;\n",
              "    }\n",
              "\n",
              "    .dataframe thead th {\n",
              "        text-align: right;\n",
              "    }\n",
              "</style>\n",
              "<table border=\"1\" class=\"dataframe\">\n",
              "  <thead>\n",
              "    <tr style=\"text-align: right;\">\n",
              "      <th></th>\n",
              "      <th>id</th>\n",
              "      <th>f0</th>\n",
              "      <th>f1</th>\n",
              "      <th>f2</th>\n",
              "      <th>product</th>\n",
              "    </tr>\n",
              "  </thead>\n",
              "  <tbody>\n",
              "    <tr>\n",
              "      <th>min</th>\n",
              "      <td>006OJ</td>\n",
              "      <td>-1.408605</td>\n",
              "      <td>-0.848218</td>\n",
              "      <td>-12.088328</td>\n",
              "      <td>0.000000</td>\n",
              "    </tr>\n",
              "    <tr>\n",
              "      <th>max</th>\n",
              "      <td>zzzLH</td>\n",
              "      <td>2.362331</td>\n",
              "      <td>1.343769</td>\n",
              "      <td>16.003790</td>\n",
              "      <td>185.364347</td>\n",
              "    </tr>\n",
              "  </tbody>\n",
              "</table>\n",
              "</div>"
            ],
            "text/plain": [
              "        id        f0        f1         f2     product\n",
              "min  006OJ -1.408605 -0.848218 -12.088328    0.000000\n",
              "max  zzzLH  2.362331  1.343769  16.003790  185.364347"
            ]
          },
          "metadata": {},
          "output_type": "display_data"
        },
        {
          "name": "stdout",
          "output_type": "stream",
          "text": [
            "Полных дубликатов: 0\n"
          ]
        },
        {
          "data": {
            "image/png": "[encoded data removed]",
            "text/plain": [
              "<Figure size 720x216 with 2 Axes>"
            ]
          },
          "metadata": {
            "needs_background": "light"
          },
          "output_type": "display_data"
        },
        {
          "name": "stdout",
          "output_type": "stream",
          "text": [
            "\n",
            "РЕГИОН  1\n"
          ]
        },
        {
          "data": {
            "text/html": [
              "<div>\n",
              "<style scoped>\n",
              "    .dataframe tbody tr th:only-of-type {\n",
              "        vertical-align: middle;\n",
              "    }\n",
              "\n",
              "    .dataframe tbody tr th {\n",
              "        vertical-align: top;\n",
              "    }\n",
              "\n",
              "    .dataframe thead th {\n",
              "        text-align: right;\n",
              "    }\n",
              "</style>\n",
              "<table border=\"1\" class=\"dataframe\">\n",
              "  <thead>\n",
              "    <tr style=\"text-align: right;\">\n",
              "      <th></th>\n",
              "      <th>id</th>\n",
              "      <th>f0</th>\n",
              "      <th>f1</th>\n",
              "      <th>f2</th>\n",
              "      <th>product</th>\n",
              "    </tr>\n",
              "  </thead>\n",
              "  <tbody>\n",
              "    <tr>\n",
              "      <th>12773</th>\n",
              "      <td>gMcJM</td>\n",
              "      <td>0.671328</td>\n",
              "      <td>-10.761688</td>\n",
              "      <td>0.010977</td>\n",
              "      <td>3.179103</td>\n",
              "    </tr>\n",
              "    <tr>\n",
              "      <th>70146</th>\n",
              "      <td>YZ7EL</td>\n",
              "      <td>6.780702</td>\n",
              "      <td>0.624040</td>\n",
              "      <td>4.004002</td>\n",
              "      <td>107.813044</td>\n",
              "    </tr>\n",
              "    <tr>\n",
              "      <th>61006</th>\n",
              "      <td>iPrJT</td>\n",
              "      <td>-7.009704</td>\n",
              "      <td>-2.615316</td>\n",
              "      <td>4.006910</td>\n",
              "      <td>110.992147</td>\n",
              "    </tr>\n",
              "  </tbody>\n",
              "</table>\n",
              "</div>"
            ],
            "text/plain": [
              "          id        f0         f1        f2     product\n",
              "12773  gMcJM  0.671328 -10.761688  0.010977    3.179103\n",
              "70146  YZ7EL  6.780702   0.624040  4.004002  107.813044\n",
              "61006  iPrJT -7.009704  -2.615316  4.006910  110.992147"
            ]
          },
          "metadata": {},
          "output_type": "display_data"
        },
        {
          "name": "stdout",
          "output_type": "stream",
          "text": [
            "<class 'pandas.core.frame.DataFrame'>\n",
            "RangeIndex: 100000 entries, 0 to 99999\n",
            "Data columns (total 5 columns):\n",
            " #   Column   Non-Null Count   Dtype  \n",
            "---  ------   --------------   -----  \n",
            " 0   id       100000 non-null  object \n",
            " 1   f0       100000 non-null  float64\n",
            " 2   f1       100000 non-null  float64\n",
            " 3   f2       100000 non-null  float64\n",
            " 4   product  100000 non-null  float64\n",
            "dtypes: float64(4), object(1)\n",
            "memory usage: 3.8+ MB\n"
          ]
        },
        {
          "data": {
            "text/html": [
              "<div>\n",
              "<style scoped>\n",
              "    .dataframe tbody tr th:only-of-type {\n",
              "        vertical-align: middle;\n",
              "    }\n",
              "\n",
              "    .dataframe tbody tr th {\n",
              "        vertical-align: top;\n",
              "    }\n",
              "\n",
              "    .dataframe thead th {\n",
              "        text-align: right;\n",
              "    }\n",
              "</style>\n",
              "<table border=\"1\" class=\"dataframe\">\n",
              "  <thead>\n",
              "    <tr style=\"text-align: right;\">\n",
              "      <th></th>\n",
              "      <th>id</th>\n",
              "      <th>f0</th>\n",
              "      <th>f1</th>\n",
              "      <th>f2</th>\n",
              "      <th>product</th>\n",
              "    </tr>\n",
              "  </thead>\n",
              "  <tbody>\n",
              "    <tr>\n",
              "      <th>min</th>\n",
              "      <td>0022J</td>\n",
              "      <td>-31.609576</td>\n",
              "      <td>-26.358598</td>\n",
              "      <td>-0.018144</td>\n",
              "      <td>0.000000</td>\n",
              "    </tr>\n",
              "    <tr>\n",
              "      <th>max</th>\n",
              "      <td>zzzvI</td>\n",
              "      <td>29.421755</td>\n",
              "      <td>18.734063</td>\n",
              "      <td>5.019721</td>\n",
              "      <td>137.945408</td>\n",
              "    </tr>\n",
              "  </tbody>\n",
              "</table>\n",
              "</div>"
            ],
            "text/plain": [
              "        id         f0         f1        f2     product\n",
              "min  0022J -31.609576 -26.358598 -0.018144    0.000000\n",
              "max  zzzvI  29.421755  18.734063  5.019721  137.945408"
            ]
          },
          "metadata": {},
          "output_type": "display_data"
        },
        {
          "name": "stdout",
          "output_type": "stream",
          "text": [
            "Полных дубликатов: 0\n"
          ]
        },
        {
          "data": {
            "image/png": "[encoded data removed]",
            "text/plain": [
              "<Figure size 720x216 with 2 Axes>"
            ]
          },
          "metadata": {
            "needs_background": "light"
          },
          "output_type": "display_data"
        },
        {
          "name": "stdout",
          "output_type": "stream",
          "text": [
            "\n",
            "РЕГИОН  2\n"
          ]
        },
        {
          "data": {
            "text/html": [
              "<div>\n",
              "<style scoped>\n",
              "    .dataframe tbody tr th:only-of-type {\n",
              "        vertical-align: middle;\n",
              "    }\n",
              "\n",
              "    .dataframe tbody tr th {\n",
              "        vertical-align: top;\n",
              "    }\n",
              "\n",
              "    .dataframe thead th {\n",
              "        text-align: right;\n",
              "    }\n",
              "</style>\n",
              "<table border=\"1\" class=\"dataframe\">\n",
              "  <thead>\n",
              "    <tr style=\"text-align: right;\">\n",
              "      <th></th>\n",
              "      <th>id</th>\n",
              "      <th>f0</th>\n",
              "      <th>f1</th>\n",
              "      <th>f2</th>\n",
              "      <th>product</th>\n",
              "    </tr>\n",
              "  </thead>\n",
              "  <tbody>\n",
              "    <tr>\n",
              "      <th>92466</th>\n",
              "      <td>dB1Gm</td>\n",
              "      <td>-1.087359</td>\n",
              "      <td>-0.363529</td>\n",
              "      <td>5.468611</td>\n",
              "      <td>156.901289</td>\n",
              "    </tr>\n",
              "    <tr>\n",
              "      <th>72996</th>\n",
              "      <td>nCEfr</td>\n",
              "      <td>2.506157</td>\n",
              "      <td>1.955087</td>\n",
              "      <td>5.247535</td>\n",
              "      <td>157.077890</td>\n",
              "    </tr>\n",
              "    <tr>\n",
              "      <th>59213</th>\n",
              "      <td>9kiDz</td>\n",
              "      <td>-0.328580</td>\n",
              "      <td>-0.392132</td>\n",
              "      <td>4.025383</td>\n",
              "      <td>112.977511</td>\n",
              "    </tr>\n",
              "  </tbody>\n",
              "</table>\n",
              "</div>"
            ],
            "text/plain": [
              "          id        f0        f1        f2     product\n",
              "92466  dB1Gm -1.087359 -0.363529  5.468611  156.901289\n",
              "72996  nCEfr  2.506157  1.955087  5.247535  157.077890\n",
              "59213  9kiDz -0.328580 -0.392132  4.025383  112.977511"
            ]
          },
          "metadata": {},
          "output_type": "display_data"
        },
        {
          "name": "stdout",
          "output_type": "stream",
          "text": [
            "<class 'pandas.core.frame.DataFrame'>\n",
            "RangeIndex: 100000 entries, 0 to 99999\n",
            "Data columns (total 5 columns):\n",
            " #   Column   Non-Null Count   Dtype  \n",
            "---  ------   --------------   -----  \n",
            " 0   id       100000 non-null  object \n",
            " 1   f0       100000 non-null  float64\n",
            " 2   f1       100000 non-null  float64\n",
            " 3   f2       100000 non-null  float64\n",
            " 4   product  100000 non-null  float64\n",
            "dtypes: float64(4), object(1)\n",
            "memory usage: 3.8+ MB\n"
          ]
        },
        {
          "data": {
            "text/html": [
              "<div>\n",
              "<style scoped>\n",
              "    .dataframe tbody tr th:only-of-type {\n",
              "        vertical-align: middle;\n",
              "    }\n",
              "\n",
              "    .dataframe tbody tr th {\n",
              "        vertical-align: top;\n",
              "    }\n",
              "\n",
              "    .dataframe thead th {\n",
              "        text-align: right;\n",
              "    }\n",
              "</style>\n",
              "<table border=\"1\" class=\"dataframe\">\n",
              "  <thead>\n",
              "    <tr style=\"text-align: right;\">\n",
              "      <th></th>\n",
              "      <th>id</th>\n",
              "      <th>f0</th>\n",
              "      <th>f1</th>\n",
              "      <th>f2</th>\n",
              "      <th>product</th>\n",
              "    </tr>\n",
              "  </thead>\n",
              "  <tbody>\n",
              "    <tr>\n",
              "      <th>min</th>\n",
              "      <td>009Gl</td>\n",
              "      <td>-8.760004</td>\n",
              "      <td>-7.084020</td>\n",
              "      <td>-11.970335</td>\n",
              "      <td>0.000000</td>\n",
              "    </tr>\n",
              "    <tr>\n",
              "      <th>max</th>\n",
              "      <td>zzz9h</td>\n",
              "      <td>7.238262</td>\n",
              "      <td>7.844801</td>\n",
              "      <td>16.739402</td>\n",
              "      <td>190.029838</td>\n",
              "    </tr>\n",
              "  </tbody>\n",
              "</table>\n",
              "</div>"
            ],
            "text/plain": [
              "        id        f0        f1         f2     product\n",
              "min  009Gl -8.760004 -7.084020 -11.970335    0.000000\n",
              "max  zzz9h  7.238262  7.844801  16.739402  190.029838"
            ]
          },
          "metadata": {},
          "output_type": "display_data"
        },
        {
          "name": "stdout",
          "output_type": "stream",
          "text": [
            "Полных дубликатов: 0\n"
          ]
        },
        {
          "data": {
            "image/png": "[encoded data removed]",
            "text/plain": [
              "<Figure size 720x216 with 2 Axes>"
            ]
          },
          "metadata": {
            "needs_background": "light"
          },
          "output_type": "display_data"
        }
      ],
      "source": [
        "for i in range(3):\n",
        "    print('\\nРЕГИОН ',i)\n",
        "    display(df[i].sample(3))\n",
        "    df[i].info()\n",
        "    display(df[i].agg(func=['min','max']))\n",
        "    print('Полных дубликатов:', df[i].duplicated().sum())\n",
        "    # построение матрицы корреляций\n",
        "    plt.figure(figsize=(10,3))\n",
        "    corr_matrix = df[i].corr()\n",
        "    sns.heatmap(corr_matrix,annot=True, cmap='crest')\n",
        "    plt.title('Матрица корреляций', fontsize=16)\n",
        "    plt.show()"
      ]
    },
    {
      "cell_type": "markdown",
      "metadata": {
        "id": "FL1lt4haPEGO"
      },
      "source": [
        "### Вывод"
      ]
    },
    {
      "cell_type": "markdown",
      "metadata": {
        "id": "OwuUPYMWPEGO"
      },
      "source": [
        "1. Имеются отдельные таблицы по трём регионам. В каждой из них представлены данные о 100 000 объектов.\n",
        "2. Пропусков и дубликатов не обнаружено.\n",
        "3. Рассматриваются непрерывные числовые признаки `f0`, `f1`, `f2` и целевой признак `product`. Идентификатор `id` скважины не несёт смысловой нагрузки.\n",
        "4. Масштаб значений признака `f2` превышает масштаб значений `f0` и `f1` на один порядок. Это не критично, однако учитывая то, что мы будем использовать линейную регрессию, - имеет смысл привести значения к одному масштабу.\n",
        "5. Данные синтетические, поэтому вряд ли стоит рассуждать о характере корреляции между характеристиками скважины и объёмом запаса нефти в ней.\n",
        "6. Тем не менее, во всех трёх регионах наблюдается сильная (от 0.45 до 1) корреляция между характеристикой `f2` и целевым признаком `product`."
      ]
    },
    {
      "cell_type": "markdown",
      "metadata": {
        "id": "E_o9qfbCPEGP"
      },
      "source": [
        "## Подготовка данных для решения задач машинного обучения"
      ]
    },
    {
      "cell_type": "markdown",
      "metadata": {
        "id": "fL1RCo2kPEGP"
      },
      "source": [
        "### Удаление несущественных данных"
      ]
    },
    {
      "cell_type": "markdown",
      "metadata": {
        "id": "OR9loaV4PEGQ"
      },
      "source": [
        "Отбросим данные, не влияющие на целевой признак:\n",
        "- id"
      ]
    },
    {
      "cell_type": "code",
      "execution_count": null,
      "metadata": {
        "id": "B6wlt9SBPEGQ"
      },
      "outputs": [],
      "source": [
        "for i in range(3):\n",
        "    df[i] = df[i].drop(['id'], axis=1)"
      ]
    },
    {
      "cell_type": "markdown",
      "metadata": {
        "id": "ook-ZWqgPEGQ"
      },
      "source": [
        "### Разделение данных на выборки"
      ]
    },
    {
      "cell_type": "markdown",
      "metadata": {
        "id": "e5GetKMjPEGQ"
      },
      "source": [
        "Выделим входящие признаки и целевой признак:"
      ]
    },
    {
      "cell_type": "code",
      "execution_count": null,
      "metadata": {
        "id": "dpOTKHNoPEGQ"
      },
      "outputs": [],
      "source": [
        "X = [pd.DataFrame(),pd.DataFrame(),pd.DataFrame()]\n",
        "y = [pd.Series(),pd.Series(),pd.Series()]"
      ]
    },
    {
      "cell_type": "code",
      "execution_count": null,
      "metadata": {
        "id": "ZBHluoopPEGQ"
      },
      "outputs": [],
      "source": [
        "for i in range(3):\n",
        "    X[i] = df[i].drop(['product'], axis=1)\n",
        "    y[i] = df[i]['product']"
      ]
    },
    {
      "cell_type": "markdown",
      "metadata": {
        "id": "sjuRG5e-PEGR"
      },
      "source": [
        "Нам необходимо разделить данные на две выборки:\n",
        "- обучающую\n",
        "- тестовую"
      ]
    },
    {
      "cell_type": "markdown",
      "metadata": {
        "id": "0H1MCdkJPEGR"
      },
      "source": [
        "Тестовая выборка должна составлять одну треть от обучающей. Данные для разных регионов будем хранить в виде элементов списка."
      ]
    },
    {
      "cell_type": "code",
      "execution_count": null,
      "metadata": {
        "id": "vs4JRzZyPEGR"
      },
      "outputs": [],
      "source": [
        "X_train = [pd.DataFrame(),pd.DataFrame(),pd.DataFrame()]\n",
        "X_test = [pd.DataFrame(),pd.DataFrame(),pd.DataFrame()]\n",
        "y_train = [pd.Series(),pd.Series(),pd.Series()]\n",
        "y_test = [pd.Series(),pd.Series(),pd.Series()]"
      ]
    },
    {
      "cell_type": "code",
      "execution_count": null,
      "metadata": {
        "scrolled": false,
        "id": "G6yR-CtKPEGR",
        "outputId": "57cd44ba-8a5f-4e63-a0d3-53b3690590ca"
      },
      "outputs": [
        {
          "name": "stdout",
          "output_type": "stream",
          "text": [
            "\n",
            "РЕГИОН  0\n",
            "Размер X_train:\t(75000, 3)\tРазмер y_train:\t(75000,)\n",
            "Размер X_test::\t(25000, 3)\tРазмер y_test:\t(25000,)\n",
            "\n",
            "РЕГИОН  1\n",
            "Размер X_train:\t(75000, 3)\tРазмер y_train:\t(75000,)\n",
            "Размер X_test::\t(25000, 3)\tРазмер y_test:\t(25000,)\n",
            "\n",
            "РЕГИОН  2\n",
            "Размер X_train:\t(75000, 3)\tРазмер y_train:\t(75000,)\n",
            "Размер X_test::\t(25000, 3)\tРазмер y_test:\t(25000,)\n"
          ]
        }
      ],
      "source": [
        "for i in range(3):\n",
        "    X_train[i], X_test[i], y_train[i], y_test[i] = train_test_split(X[i], y[i], test_size=0.25, random_state=state)\n",
        "    X_train[i] = X_train[i].reset_index(drop=True)\n",
        "    X_test[i] = X_test[i].reset_index(drop=True)\n",
        "    y_train[i] = y_train[i].reset_index(drop=True)\n",
        "    y_test[i] = y_test[i].reset_index(drop=True)\n",
        "    # проверим размерность получившихся выборок\n",
        "    print('\\nРЕГИОН ', i)\n",
        "    print('Размер X_train:\\t{0}\\tРазмер y_train:\\t{1}'.format(X_train[i].shape,y_train[i].shape))\n",
        "    print('Размер X_test::\\t{0}\\tРазмер y_test:\\t{1}'.format(X_test[i].shape,y_test[i].shape))"
      ]
    },
    {
      "cell_type": "markdown",
      "metadata": {
        "id": "HeDT4aWDPEGS"
      },
      "source": [
        "### Масштабирование числовых признаков"
      ]
    },
    {
      "cell_type": "code",
      "execution_count": null,
      "metadata": {
        "id": "3vvNO42WPEGS"
      },
      "outputs": [],
      "source": [
        "for i in range(3):\n",
        "    scaler = StandardScaler()\n",
        "    X_train[i] = scaler.fit_transform(X_train[i])\n",
        "    X_test[i] = pd.DataFrame(scaler.transform(X_test[i]))"
      ]
    },
    {
      "cell_type": "markdown",
      "metadata": {
        "id": "3YDqXyJ_PEGS"
      },
      "source": [
        "## Обучение и проверка моделей"
      ]
    },
    {
      "cell_type": "code",
      "execution_count": null,
      "metadata": {
        "id": "aWdfsi9lPEGS"
      },
      "outputs": [],
      "source": [
        "# готовим список для хранения моделей, обученных для разных регионов\n",
        "models = [None,None,None]\n",
        "\n",
        "# готовим список для хранения предсказаний на тестовых выборках для разных регионов\n",
        "predictions = [None,None,None]\n",
        "\n",
        "# готовим таблицу для сохранения показателей моделей по регионам\n",
        "result = pd.DataFrame(np.array([['РЕГИОН 0', 0.0, 0.0],\n",
        "                                ['РЕГИОН 1', 0.0, 0.0],\n",
        "                                ['РЕГИОН 2', 0.0, 0.0]\n",
        "                               ]),\n",
        "                      columns=['Region','Mean Predicted Product','RMSE']\n",
        "                     )"
      ]
    },
    {
      "cell_type": "code",
      "execution_count": null,
      "metadata": {
        "id": "XO8upTZsPEGS",
        "outputId": "cf5f1962-30a8-4ac5-f8c8-ceb54ad672ca"
      },
      "outputs": [
        {
          "data": {
            "text/html": [
              "<div>\n",
              "<style scoped>\n",
              "    .dataframe tbody tr th:only-of-type {\n",
              "        vertical-align: middle;\n",
              "    }\n",
              "\n",
              "    .dataframe tbody tr th {\n",
              "        vertical-align: top;\n",
              "    }\n",
              "\n",
              "    .dataframe thead th {\n",
              "        text-align: right;\n",
              "    }\n",
              "</style>\n",
              "<table border=\"1\" class=\"dataframe\">\n",
              "  <thead>\n",
              "    <tr style=\"text-align: right;\">\n",
              "      <th></th>\n",
              "      <th>Region</th>\n",
              "      <th>Mean Predicted Product</th>\n",
              "      <th>RMSE</th>\n",
              "    </tr>\n",
              "  </thead>\n",
              "  <tbody>\n",
              "    <tr>\n",
              "      <th>0</th>\n",
              "      <td>РЕГИОН 0</td>\n",
              "      <td>92.3988</td>\n",
              "      <td>37.7566</td>\n",
              "    </tr>\n",
              "    <tr>\n",
              "      <th>1</th>\n",
              "      <td>РЕГИОН 1</td>\n",
              "      <td>68.587803</td>\n",
              "      <td>0.889947</td>\n",
              "    </tr>\n",
              "    <tr>\n",
              "      <th>2</th>\n",
              "      <td>РЕГИОН 2</td>\n",
              "      <td>95.092303</td>\n",
              "      <td>40.23735</td>\n",
              "    </tr>\n",
              "  </tbody>\n",
              "</table>\n",
              "</div>"
            ],
            "text/plain": [
              "     Region Mean Predicted Product      RMSE\n",
              "0  РЕГИОН 0                92.3988   37.7566\n",
              "1  РЕГИОН 1              68.587803  0.889947\n",
              "2  РЕГИОН 2              95.092303  40.23735"
            ]
          },
          "metadata": {},
          "output_type": "display_data"
        }
      ],
      "source": [
        "for i in range(3):\n",
        "    # согласно заданию - используем линейную регрессию\n",
        "    models[i] = LinearRegression() \n",
        "    # обучаем модель на данных соответствующего региона\n",
        "    models[i].fit(X_train[i],y_train[i]) \n",
        "    # получаем предсказание для тестовой выборки\n",
        "    predictions[i] = pd.Series(models[i].predict(X_test[i]),index=X_test[i].index)\n",
        "    # вычисляем среднее значение предсказанного объёма запасов в скважине\n",
        "    mean_prediction = predictions[i].mean() \n",
        "    # записываем среднее значение в таблицу\n",
        "    result.loc[i,'Mean Predicted Product'] = mean_prediction \n",
        "    # записываем в таблицу RMSE модели (параметр squared=False позволяет получить RMSE, а не MSE)\n",
        "    result.loc[i,'RMSE'] = mean_squared_error(y_test[i], predictions[i], squared=False) \n",
        "    \n",
        "display(result)"
      ]
    },
    {
      "cell_type": "markdown",
      "metadata": {
        "id": "C1kn7RFUPEGT"
      },
      "source": [
        "### Выводы"
      ]
    },
    {
      "cell_type": "markdown",
      "metadata": {
        "id": "K6kePM2JPEGT"
      },
      "source": [
        "1. Для регионов 0 и 2 модели дают более высокую оценку запасов нефти, чем в регоне 1. Однако корень из среднеквадратической ошибки моделей для этих регионов тоже очень велик - он составляет почти половину от среднего предсказания для скважины.\n",
        "2. Для региона 1 модель предсказывает более скудные запасы нефти в скважинах. Однако точность у модели для этого региона несравненно выше, чем у моделей для регионов 0 и 2. Это может снизить риски при принятии решения в пользу этого региона."
      ]
    },
    {
      "cell_type": "markdown",
      "metadata": {
        "id": "096G8U5QPEGT"
      },
      "source": [
        "## Подготовка к расчёту прибыли"
      ]
    },
    {
      "cell_type": "markdown",
      "metadata": {
        "id": "xq0wK2hJPEGU"
      },
      "source": [
        "Подготовимся к расчёту прибыли:\n",
        "- все ключевые значения для расчётов сохраним в отдельных переменных;\n",
        "- рассчитаем достаточный объём сырья для безубыточной разработки новой скважины;\n",
        "- сравним полученный объём сырья со средним запасом в каждом регионе."
      ]
    },
    {
      "cell_type": "code",
      "execution_count": null,
      "metadata": {
        "id": "RYX5GQPUPEGU"
      },
      "outputs": [],
      "source": [
        "# бюджет на разработку скважин в регионе — 10 млрд рублей\n",
        "BUDGET = 10000000000\n",
        "# тысяча баррелей сырья приносит 450000 рублей дохода\n",
        "INCOME_RATE = 450000\n",
        "# при разведке региона исследуют 500 точек\n",
        "TOTAL = 500\n",
        "# из них выбирают 200 лучших для разработки\n",
        "SELECT = 200\n",
        "# вероятность убытков должна быть меньше 2.5%\n",
        "ALPHA = 0.025"
      ]
    },
    {
      "cell_type": "code",
      "execution_count": null,
      "metadata": {
        "scrolled": false,
        "id": "lLexHv6hPEGU",
        "outputId": "90657dd2-d915-40db-cbb6-516c6829a1d3"
      },
      "outputs": [
        {
          "name": "stdout",
          "output_type": "stream",
          "text": [
            "Средний объём сырья в скважине, который позволит разработать её без убытков: 111.11 тыс. баррелей.\n"
          ]
        }
      ],
      "source": [
        "min_good_well_product = (BUDGET/SELECT)/INCOME_RATE\n",
        "print('Средний объём сырья в скважине, который позволит разработать её без убытков: {:.2f} тыс. баррелей.'\n",
        "      .format(min_good_well_product))"
      ]
    },
    {
      "cell_type": "markdown",
      "metadata": {
        "id": "Fel3MQ8TPEGV"
      },
      "source": [
        "### Выводы"
      ]
    },
    {
      "cell_type": "markdown",
      "metadata": {
        "id": "m_pXJtnbPEGV"
      },
      "source": [
        "Средний объём запасов в скважине, который обеспечит безубыточную разработку, - 111 тыс. баррелей. Это больше, чем среднее прогнозируемое значение во всех трёх регионах (92, 69 и 95 тыс. баррелей, соответственно). Таким образом, скважины для разработки необходимо отбирать - иначе добыча, скорее всего, окажется убыточной."
      ]
    },
    {
      "cell_type": "markdown",
      "metadata": {
        "id": "whyeA8pVPEGV"
      },
      "source": [
        "## Расчёт прибыли и рисков "
      ]
    },
    {
      "cell_type": "markdown",
      "metadata": {
        "id": "rqU06Tw1PEGW"
      },
      "source": [
        "### Функция для расчёта прибыли"
      ]
    },
    {
      "cell_type": "code",
      "execution_count": null,
      "metadata": {
        "id": "hv0ZgKS1PEGW"
      },
      "outputs": [],
      "source": [
        "def income(y_true,y_pred):\n",
        "    # сортируем скважины по убыванию ПРЕДСКАЗАННОГО объема запасов\n",
        "    y_pred_sorted = y_pred.sort_values(ascending=False)\n",
        "    # выбираем РЕАЛЬНЫЕ показатели 200 лучших (согласно предсказаниям) скважин\n",
        "    selected = y_true[y_pred_sorted.index][:SELECT]\n",
        "    # умножаем прибыль с единицы запасов на общий РЕАЛЬНЫЙ объём в выбранных скважинах\n",
        "    # и вычитаем бюджет на разработку (предполагается, что мы потратили его весь)\n",
        "    return (INCOME_RATE * selected.sum() - BUDGET)"
      ]
    },
    {
      "cell_type": "code",
      "execution_count": null,
      "metadata": {
        "id": "56z6PY93PEGW"
      },
      "outputs": [],
      "source": [
        "def bootstrap(i):\n",
        "    values = []\n",
        "    for n in range(1000):\n",
        "        # выбираем 500 случайных скважин (\"разведанных\")\n",
        "        y_subsample = y_test[i].sample(n=TOTAL, replace=True, random_state=state)\n",
        "        # получаем предсказание прибыли от модели\n",
        "        pred_subsample = predictions[i][y_subsample.index]\n",
        "        # добавляем новое значение прибыли в список\n",
        "        values.append(income(y_subsample,pred_subsample))\n",
        "\n",
        "    values = pd.Series(values)\n",
        "\n",
        "    mean = values.mean()\n",
        "    # находим нижнюю границу 95%-ого доверительного интервала\n",
        "    lower = values.quantile(0.025)\n",
        "    # находим верхнюю границу 95%-ого доверительного интервала\n",
        "    upper = values.quantile(0.975)\n",
        "    # находим вероятность убытка (количество отрицательных значений делим на общее количество значений)\n",
        "    loss = (values < 0).mean()#values[values<0].count()/values.count()\n",
        "    \n",
        "    print('\\n\\nРЕГИОН', i)\n",
        "    plt.figure(figsize=(14,7))\n",
        "    sns.histplot(x=values,bins=50)\n",
        "    plt.title('Распределение прибыли')\n",
        "    plt.show()\n",
        "    print('Средняя прибыль: {0:.0f}'.format(mean))\n",
        "    print('95%-й доверительный интервал: от {0:.0f} до {1:.0f}'.format(lower,upper))\n",
        "    print('Риск убытков: {}'.format(loss))"
      ]
    },
    {
      "cell_type": "code",
      "execution_count": null,
      "metadata": {
        "scrolled": false,
        "id": "uj6EWlwNPEGX",
        "outputId": "68360dd7-41e0-4728-d8a3-d9f9cc56dc46"
      },
      "outputs": [
        {
          "name": "stdout",
          "output_type": "stream",
          "text": [
            "\n",
            "\n",
            "РЕГИОН 0\n"
          ]
        },
        {
          "data": {
            "image/png": "[encoded data removed]",
            "text/plain": [
              "<Figure size 1008x504 with 1 Axes>"
            ]
          },
          "metadata": {
            "needs_background": "light"
          },
          "output_type": "display_data"
        },
        {
          "name": "stdout",
          "output_type": "stream",
          "text": [
            "Средняя прибыль: 440446620\n",
            "95%-й доверительный интервал: от -129698264 до 980351535\n",
            "Риск убытков: 0.058\n",
            "\n",
            "\n",
            "РЕГИОН 1\n"
          ]
        },
        {
          "data": {
            "image/png": "[encoded data removed]",
            "text/plain": [
              "<Figure size 1008x504 with 1 Axes>"
            ]
          },
          "metadata": {
            "needs_background": "light"
          },
          "output_type": "display_data"
        },
        {
          "name": "stdout",
          "output_type": "stream",
          "text": [
            "Средняя прибыль: 489036146\n",
            "95%-й доверительный интервал: от 63878579 до 900130456\n",
            "Риск убытков: 0.01\n",
            "\n",
            "\n",
            "РЕГИОН 2\n"
          ]
        },
        {
          "data": {
            "image/png": "[encoded data removed]",
            "text/plain": [
              "<Figure size 1008x504 with 1 Axes>"
            ]
          },
          "metadata": {
            "needs_background": "light"
          },
          "output_type": "display_data"
        },
        {
          "name": "stdout",
          "output_type": "stream",
          "text": [
            "Средняя прибыль: 343559871\n",
            "95%-й доверительный интервал: от -210907751 до 884771215\n",
            "Риск убытков: 0.119\n"
          ]
        }
      ],
      "source": [
        "for i in range(3):\n",
        "    bootstrap(i)"
      ]
    },
    {
      "cell_type": "markdown",
      "metadata": {
        "id": "ps5XlUAqPEGX"
      },
      "source": [
        "## Выводы"
      ]
    },
    {
      "cell_type": "markdown",
      "metadata": {
        "id": "RrLVLSJ3PEGX"
      },
      "source": [
        "1. Вероятность убытков ниже 2.5 % только в регионе 1 (а именно - 1 %).\n",
        "2. В этом же регионе модель предсказывает наибольшую среднюю прибыль (490 697 752 руб.).\n",
        "3. Для разработки новых скважин следует выбрать регион 1 (второй из трёх). С вероятностью 95% прибыль от разработки составит от 63 878 579 руб. до 900 130 456 руб. (будет положительной)."
      ]
    }
  ],
  "metadata": {
    "ExecuteTimeLog": [
      {
        "duration": 1036,
        "start_time": "2022-04-17T18:42:46.885Z"
      },
      {
        "duration": 272,
        "start_time": "2022-04-17T18:43:46.668Z"
      },
      {
        "duration": 3,
        "start_time": "2022-04-17T18:44:07.568Z"
      },
      {
        "duration": 119,
        "start_time": "2022-04-17T18:45:12.153Z"
      },
      {
        "duration": 317,
        "start_time": "2022-04-17T18:45:36.270Z"
      },
      {
        "duration": 31,
        "start_time": "2022-04-17T18:45:51.240Z"
      },
      {
        "duration": 54,
        "start_time": "2022-04-17T18:49:29.600Z"
      },
      {
        "duration": 53,
        "start_time": "2022-04-17T18:50:02.475Z"
      },
      {
        "duration": 61,
        "start_time": "2022-04-17T19:01:14.301Z"
      },
      {
        "duration": 58,
        "start_time": "2022-04-17T19:01:34.744Z"
      },
      {
        "duration": 51,
        "start_time": "2022-04-17T19:01:55.576Z"
      },
      {
        "duration": 58,
        "start_time": "2022-04-17T19:02:06.203Z"
      },
      {
        "duration": 53,
        "start_time": "2022-04-17T19:02:22.413Z"
      },
      {
        "duration": 56,
        "start_time": "2022-04-17T19:02:36.057Z"
      },
      {
        "duration": 46,
        "start_time": "2022-04-17T19:03:29.875Z"
      },
      {
        "duration": 46,
        "start_time": "2022-04-17T19:03:35.893Z"
      },
      {
        "duration": 45,
        "start_time": "2022-04-17T19:03:38.908Z"
      },
      {
        "duration": 44,
        "start_time": "2022-04-17T19:03:39.069Z"
      },
      {
        "duration": 47,
        "start_time": "2022-04-17T19:03:39.219Z"
      },
      {
        "duration": 1311,
        "start_time": "2022-04-18T19:23:37.008Z"
      },
      {
        "duration": 446,
        "start_time": "2022-04-18T19:23:38.322Z"
      },
      {
        "duration": 2,
        "start_time": "2022-04-18T19:23:38.770Z"
      },
      {
        "duration": 4089,
        "start_time": "2022-04-18T19:23:38.774Z"
      },
      {
        "duration": 74,
        "start_time": "2022-04-18T19:23:42.864Z"
      },
      {
        "duration": 61,
        "start_time": "2022-04-18T19:23:42.939Z"
      },
      {
        "duration": 77,
        "start_time": "2022-04-18T19:23:43.002Z"
      },
      {
        "duration": 201,
        "start_time": "2022-04-18T19:46:52.119Z"
      },
      {
        "duration": 81,
        "start_time": "2022-04-18T19:46:54.694Z"
      },
      {
        "duration": 70,
        "start_time": "2022-04-18T19:48:50.785Z"
      },
      {
        "duration": 78,
        "start_time": "2022-04-18T19:49:29.505Z"
      },
      {
        "duration": 76,
        "start_time": "2022-04-18T19:49:30.111Z"
      },
      {
        "duration": 76,
        "start_time": "2022-04-18T19:49:30.553Z"
      },
      {
        "duration": 3,
        "start_time": "2022-04-18T19:54:01.364Z"
      },
      {
        "duration": 96,
        "start_time": "2022-04-18T19:54:32.334Z"
      },
      {
        "duration": 147,
        "start_time": "2022-04-18T19:56:39.987Z"
      },
      {
        "duration": 5,
        "start_time": "2022-04-18T19:57:05.695Z"
      },
      {
        "duration": 382,
        "start_time": "2022-04-18T19:57:06.460Z"
      },
      {
        "duration": 89,
        "start_time": "2022-04-18T19:57:21.059Z"
      },
      {
        "duration": 94,
        "start_time": "2022-04-18T19:57:59.546Z"
      },
      {
        "duration": 175,
        "start_time": "2022-04-18T19:58:17.749Z"
      },
      {
        "duration": 145,
        "start_time": "2022-04-18T19:58:42.030Z"
      },
      {
        "duration": 150,
        "start_time": "2022-04-18T19:59:02.041Z"
      },
      {
        "duration": 222,
        "start_time": "2022-04-18T19:59:31.586Z"
      },
      {
        "duration": 6,
        "start_time": "2022-04-18T20:01:03.300Z"
      },
      {
        "duration": 12,
        "start_time": "2022-04-18T20:01:53.366Z"
      },
      {
        "duration": 4,
        "start_time": "2022-04-18T20:03:35.484Z"
      },
      {
        "duration": 3144,
        "start_time": "2022-04-18T20:03:36.134Z"
      },
      {
        "duration": 7,
        "start_time": "2022-04-18T20:03:46.767Z"
      },
      {
        "duration": 6,
        "start_time": "2022-04-18T20:03:53.192Z"
      },
      {
        "duration": 28,
        "start_time": "2022-04-18T20:04:02.757Z"
      },
      {
        "duration": 31,
        "start_time": "2022-04-18T20:06:08.475Z"
      },
      {
        "duration": 135,
        "start_time": "2022-04-18T20:12:00.542Z"
      },
      {
        "duration": 162,
        "start_time": "2022-04-18T20:12:10.321Z"
      },
      {
        "duration": 14108,
        "start_time": "2022-04-18T20:17:52.748Z"
      },
      {
        "duration": 405,
        "start_time": "2022-04-18T20:41:23.242Z"
      },
      {
        "duration": 15336,
        "start_time": "2022-04-18T20:41:58.261Z"
      },
      {
        "duration": 378,
        "start_time": "2022-04-18T20:43:06.259Z"
      },
      {
        "duration": 13972,
        "start_time": "2022-04-18T20:43:23.629Z"
      },
      {
        "duration": 14783,
        "start_time": "2022-04-18T20:43:57.774Z"
      },
      {
        "duration": 14297,
        "start_time": "2022-04-18T20:49:59.182Z"
      },
      {
        "duration": 3,
        "start_time": "2022-04-18T21:23:08.925Z"
      },
      {
        "duration": 768,
        "start_time": "2022-04-18T21:23:09.387Z"
      },
      {
        "duration": 5,
        "start_time": "2022-04-18T21:23:17.588Z"
      },
      {
        "duration": 365,
        "start_time": "2022-04-18T21:23:18.486Z"
      },
      {
        "duration": 2047,
        "start_time": "2022-04-19T06:28:10.083Z"
      },
      {
        "duration": 947,
        "start_time": "2022-04-19T06:28:12.135Z"
      },
      {
        "duration": 195,
        "start_time": "2022-04-19T06:28:13.084Z"
      },
      {
        "duration": 0,
        "start_time": "2022-04-19T06:28:13.282Z"
      },
      {
        "duration": 0,
        "start_time": "2022-04-19T06:28:13.284Z"
      },
      {
        "duration": 0,
        "start_time": "2022-04-19T06:28:13.287Z"
      },
      {
        "duration": 0,
        "start_time": "2022-04-19T06:28:13.289Z"
      },
      {
        "duration": 0,
        "start_time": "2022-04-19T06:28:13.291Z"
      },
      {
        "duration": 0,
        "start_time": "2022-04-19T06:28:13.293Z"
      },
      {
        "duration": 0,
        "start_time": "2022-04-19T06:28:13.295Z"
      },
      {
        "duration": 0,
        "start_time": "2022-04-19T06:28:13.297Z"
      },
      {
        "duration": 0,
        "start_time": "2022-04-19T06:28:13.299Z"
      },
      {
        "duration": 0,
        "start_time": "2022-04-19T06:28:13.301Z"
      },
      {
        "duration": 5,
        "start_time": "2022-04-19T06:28:38.456Z"
      },
      {
        "duration": 5,
        "start_time": "2022-04-19T06:28:39.670Z"
      },
      {
        "duration": 4,
        "start_time": "2022-04-19T06:28:40.478Z"
      },
      {
        "duration": 5,
        "start_time": "2022-04-19T06:28:41.808Z"
      },
      {
        "duration": 6,
        "start_time": "2022-04-19T06:28:42.727Z"
      },
      {
        "duration": 494,
        "start_time": "2022-04-19T06:28:43.146Z"
      },
      {
        "duration": 28442,
        "start_time": "2022-04-19T06:28:43.650Z"
      },
      {
        "duration": 27791,
        "start_time": "2022-04-19T06:30:52.030Z"
      },
      {
        "duration": 26875,
        "start_time": "2022-04-19T06:31:24.794Z"
      },
      {
        "duration": 26384,
        "start_time": "2022-04-19T06:31:51.875Z"
      },
      {
        "duration": 629,
        "start_time": "2022-04-19T06:34:01.775Z"
      },
      {
        "duration": 89,
        "start_time": "2022-04-19T06:34:16.268Z"
      },
      {
        "duration": 5,
        "start_time": "2022-04-19T06:35:12.894Z"
      },
      {
        "duration": 23046,
        "start_time": "2022-04-19T06:35:18.935Z"
      },
      {
        "duration": 23,
        "start_time": "2022-04-19T06:39:19.423Z"
      },
      {
        "duration": 7,
        "start_time": "2022-04-19T06:39:20.980Z"
      },
      {
        "duration": 14,
        "start_time": "2022-04-19T06:39:21.978Z"
      },
      {
        "duration": 9,
        "start_time": "2022-04-19T06:39:23.517Z"
      },
      {
        "duration": 185,
        "start_time": "2022-04-19T06:39:24.281Z"
      },
      {
        "duration": 14,
        "start_time": "2022-04-19T06:39:25.622Z"
      },
      {
        "duration": 37,
        "start_time": "2022-04-19T06:42:06.432Z"
      },
      {
        "duration": 6,
        "start_time": "2022-04-19T06:45:54.560Z"
      },
      {
        "duration": 13,
        "start_time": "2022-04-19T06:46:04.640Z"
      },
      {
        "duration": 4,
        "start_time": "2022-04-19T06:46:10.928Z"
      },
      {
        "duration": 4,
        "start_time": "2022-04-19T06:46:57.256Z"
      },
      {
        "duration": 12,
        "start_time": "2022-04-19T06:47:45.021Z"
      },
      {
        "duration": 4,
        "start_time": "2022-04-19T06:49:57.062Z"
      },
      {
        "duration": 12,
        "start_time": "2022-04-19T06:50:11.238Z"
      },
      {
        "duration": 4,
        "start_time": "2022-04-19T06:50:25.331Z"
      },
      {
        "duration": 4,
        "start_time": "2022-04-19T06:50:36.204Z"
      },
      {
        "duration": 11,
        "start_time": "2022-04-19T06:50:37.846Z"
      },
      {
        "duration": 130,
        "start_time": "2022-04-19T06:51:02.581Z"
      },
      {
        "duration": 4,
        "start_time": "2022-04-19T06:51:06.187Z"
      },
      {
        "duration": 13,
        "start_time": "2022-04-19T06:51:06.701Z"
      },
      {
        "duration": 4,
        "start_time": "2022-04-19T06:51:17.692Z"
      },
      {
        "duration": 22,
        "start_time": "2022-04-19T06:51:18.074Z"
      },
      {
        "duration": 4,
        "start_time": "2022-04-19T06:55:24.337Z"
      },
      {
        "duration": 85,
        "start_time": "2022-04-19T06:57:34.669Z"
      },
      {
        "duration": 4,
        "start_time": "2022-04-19T06:57:40.314Z"
      },
      {
        "duration": 138,
        "start_time": "2022-04-19T06:57:40.716Z"
      },
      {
        "duration": 207,
        "start_time": "2022-04-19T06:57:54.547Z"
      },
      {
        "duration": 161,
        "start_time": "2022-04-19T06:58:40.394Z"
      },
      {
        "duration": 66,
        "start_time": "2022-04-19T07:08:52.789Z"
      },
      {
        "duration": 5,
        "start_time": "2022-04-19T07:08:59.695Z"
      },
      {
        "duration": 47,
        "start_time": "2022-04-19T07:09:00.213Z"
      },
      {
        "duration": 414,
        "start_time": "2022-04-19T07:09:27.046Z"
      },
      {
        "duration": 468,
        "start_time": "2022-04-19T07:09:35.785Z"
      },
      {
        "duration": 54,
        "start_time": "2022-04-19T15:39:10.007Z"
      },
      {
        "duration": 1449,
        "start_time": "2022-04-19T15:39:14.005Z"
      },
      {
        "duration": 434,
        "start_time": "2022-04-19T15:39:15.456Z"
      },
      {
        "duration": 4,
        "start_time": "2022-04-19T15:39:15.892Z"
      },
      {
        "duration": 6,
        "start_time": "2022-04-19T15:39:15.897Z"
      },
      {
        "duration": 6,
        "start_time": "2022-04-19T15:39:15.906Z"
      },
      {
        "duration": 366,
        "start_time": "2022-04-19T15:39:15.914Z"
      },
      {
        "duration": 23987,
        "start_time": "2022-04-19T15:39:16.281Z"
      },
      {
        "duration": 32,
        "start_time": "2022-04-19T15:39:40.271Z"
      },
      {
        "duration": 7,
        "start_time": "2022-04-19T15:39:40.305Z"
      },
      {
        "duration": 13,
        "start_time": "2022-04-19T15:39:40.313Z"
      },
      {
        "duration": 8,
        "start_time": "2022-04-19T15:39:40.327Z"
      },
      {
        "duration": 59,
        "start_time": "2022-04-19T15:39:40.337Z"
      },
      {
        "duration": 25,
        "start_time": "2022-04-19T15:39:40.397Z"
      },
      {
        "duration": 4,
        "start_time": "2022-04-19T15:39:40.425Z"
      },
      {
        "duration": 267,
        "start_time": "2022-04-19T15:39:40.431Z"
      },
      {
        "duration": 18,
        "start_time": "2022-04-19T15:56:19.854Z"
      },
      {
        "duration": 4,
        "start_time": "2022-04-19T15:56:20.763Z"
      },
      {
        "duration": 295,
        "start_time": "2022-04-19T15:56:21.197Z"
      },
      {
        "duration": 3,
        "start_time": "2022-04-19T16:24:59.171Z"
      },
      {
        "duration": 3,
        "start_time": "2022-04-19T16:25:42.670Z"
      },
      {
        "duration": 4,
        "start_time": "2022-04-19T16:26:47.806Z"
      },
      {
        "duration": 4,
        "start_time": "2022-04-19T16:27:27.696Z"
      },
      {
        "duration": 3,
        "start_time": "2022-04-19T16:28:46.393Z"
      },
      {
        "duration": 3,
        "start_time": "2022-04-19T16:33:17.930Z"
      },
      {
        "duration": 3,
        "start_time": "2022-04-19T16:35:08.113Z"
      },
      {
        "duration": 3,
        "start_time": "2022-04-19T16:36:48.345Z"
      },
      {
        "duration": 4,
        "start_time": "2022-04-19T16:44:14.492Z"
      },
      {
        "duration": 4,
        "start_time": "2022-04-19T16:47:43.702Z"
      },
      {
        "duration": 3,
        "start_time": "2022-04-19T20:28:00.126Z"
      },
      {
        "duration": 5,
        "start_time": "2022-04-19T20:28:00.131Z"
      },
      {
        "duration": 9,
        "start_time": "2022-04-19T20:28:00.138Z"
      },
      {
        "duration": 6,
        "start_time": "2022-04-19T20:28:00.149Z"
      },
      {
        "duration": 11,
        "start_time": "2022-04-19T20:28:00.156Z"
      },
      {
        "duration": 343,
        "start_time": "2022-04-19T20:28:00.169Z"
      },
      {
        "duration": 16038,
        "start_time": "2022-04-19T20:28:00.513Z"
      },
      {
        "duration": 12,
        "start_time": "2022-04-19T20:28:16.553Z"
      },
      {
        "duration": 27,
        "start_time": "2022-04-19T20:28:16.567Z"
      },
      {
        "duration": 10,
        "start_time": "2022-04-19T20:28:16.596Z"
      },
      {
        "duration": 8,
        "start_time": "2022-04-19T20:28:16.608Z"
      },
      {
        "duration": 31,
        "start_time": "2022-04-19T20:28:16.618Z"
      },
      {
        "duration": 46,
        "start_time": "2022-04-19T20:28:16.650Z"
      },
      {
        "duration": 4,
        "start_time": "2022-04-19T20:28:16.698Z"
      },
      {
        "duration": 290,
        "start_time": "2022-04-19T20:28:16.704Z"
      },
      {
        "duration": 96,
        "start_time": "2022-04-19T20:28:16.997Z"
      },
      {
        "duration": 4,
        "start_time": "2022-04-19T20:28:17.095Z"
      },
      {
        "duration": 4,
        "start_time": "2022-04-19T20:29:39.343Z"
      },
      {
        "duration": 131,
        "start_time": "2022-04-19T20:29:40.519Z"
      },
      {
        "duration": 141,
        "start_time": "2022-04-19T20:37:45.788Z"
      },
      {
        "duration": 151,
        "start_time": "2022-04-19T20:37:59.030Z"
      },
      {
        "duration": 5,
        "start_time": "2022-04-19T20:38:04.033Z"
      },
      {
        "duration": 38132,
        "start_time": "2022-04-19T20:38:15.847Z"
      },
      {
        "duration": 5,
        "start_time": "2022-04-19T20:42:28.509Z"
      },
      {
        "duration": 38009,
        "start_time": "2022-04-19T20:42:58.096Z"
      },
      {
        "duration": 4,
        "start_time": "2022-04-19T20:44:47.182Z"
      },
      {
        "duration": 5,
        "start_time": "2022-04-19T20:45:59.798Z"
      },
      {
        "duration": 37373,
        "start_time": "2022-04-19T20:46:00.694Z"
      },
      {
        "duration": 4,
        "start_time": "2022-04-19T20:48:40.669Z"
      },
      {
        "duration": 6,
        "start_time": "2022-04-19T20:49:37.162Z"
      },
      {
        "duration": 39529,
        "start_time": "2022-04-19T20:49:38.917Z"
      },
      {
        "duration": 5,
        "start_time": "2022-04-19T20:51:59.033Z"
      },
      {
        "duration": 39057,
        "start_time": "2022-04-19T20:52:00.306Z"
      },
      {
        "duration": 4,
        "start_time": "2022-04-19T20:55:35.011Z"
      },
      {
        "duration": 6,
        "start_time": "2022-04-19T20:55:35.696Z"
      },
      {
        "duration": 38779,
        "start_time": "2022-04-19T20:55:39.321Z"
      },
      {
        "duration": 6,
        "start_time": "2022-04-19T20:58:37.465Z"
      },
      {
        "duration": 37613,
        "start_time": "2022-04-19T20:58:40.701Z"
      },
      {
        "duration": 6,
        "start_time": "2022-04-19T21:04:15.942Z"
      },
      {
        "duration": 1487,
        "start_time": "2022-04-19T21:04:16.810Z"
      },
      {
        "duration": 6,
        "start_time": "2022-04-19T21:06:23.505Z"
      },
      {
        "duration": 1476,
        "start_time": "2022-04-19T21:06:24.463Z"
      },
      {
        "duration": 4490,
        "start_time": "2022-04-19T21:07:23.121Z"
      },
      {
        "duration": 6,
        "start_time": "2022-04-19T21:08:10.070Z"
      },
      {
        "duration": 4477,
        "start_time": "2022-04-19T21:08:10.981Z"
      },
      {
        "duration": 5,
        "start_time": "2022-04-19T21:08:19.303Z"
      },
      {
        "duration": 4574,
        "start_time": "2022-04-19T21:08:20.156Z"
      },
      {
        "duration": 5,
        "start_time": "2022-04-19T21:08:27.774Z"
      },
      {
        "duration": 4711,
        "start_time": "2022-04-19T21:08:28.564Z"
      },
      {
        "duration": 6,
        "start_time": "2022-04-19T21:09:01.398Z"
      },
      {
        "duration": 4584,
        "start_time": "2022-04-19T21:09:01.406Z"
      },
      {
        "duration": 1780,
        "start_time": "2022-04-20T09:54:27.731Z"
      },
      {
        "duration": 542,
        "start_time": "2022-04-20T09:54:29.514Z"
      },
      {
        "duration": 9,
        "start_time": "2022-04-20T09:54:31.272Z"
      },
      {
        "duration": 4,
        "start_time": "2022-04-20T09:54:32.273Z"
      },
      {
        "duration": 4,
        "start_time": "2022-04-20T09:57:47.071Z"
      },
      {
        "duration": 4,
        "start_time": "2022-04-20T09:57:47.944Z"
      },
      {
        "duration": 452,
        "start_time": "2022-04-20T09:57:48.616Z"
      },
      {
        "duration": 2019,
        "start_time": "2022-04-20T09:57:50.129Z"
      },
      {
        "duration": 2008,
        "start_time": "2022-04-20T09:58:13.667Z"
      },
      {
        "duration": 21,
        "start_time": "2022-04-20T10:03:51.975Z"
      },
      {
        "duration": 7,
        "start_time": "2022-04-20T10:03:52.935Z"
      },
      {
        "duration": 15,
        "start_time": "2022-04-20T10:03:53.247Z"
      },
      {
        "duration": 9,
        "start_time": "2022-04-20T10:03:54.920Z"
      },
      {
        "duration": 48,
        "start_time": "2022-04-20T10:03:55.359Z"
      },
      {
        "duration": 37,
        "start_time": "2022-04-20T10:04:02.230Z"
      },
      {
        "duration": 6,
        "start_time": "2022-04-20T10:04:03.359Z"
      },
      {
        "duration": 375,
        "start_time": "2022-04-20T10:04:04.559Z"
      },
      {
        "duration": 239,
        "start_time": "2022-04-20T10:04:58.056Z"
      },
      {
        "duration": 17,
        "start_time": "2022-04-20T19:06:19.473Z"
      },
      {
        "duration": 2195,
        "start_time": "2022-04-20T19:20:06.217Z"
      },
      {
        "duration": 678,
        "start_time": "2022-04-20T19:20:08.415Z"
      },
      {
        "duration": 12,
        "start_time": "2022-04-20T19:20:09.095Z"
      },
      {
        "duration": 10,
        "start_time": "2022-04-20T19:20:09.109Z"
      },
      {
        "duration": 12,
        "start_time": "2022-04-20T19:20:09.123Z"
      },
      {
        "duration": 580,
        "start_time": "2022-04-20T19:20:09.137Z"
      },
      {
        "duration": 1924,
        "start_time": "2022-04-20T19:20:09.720Z"
      },
      {
        "duration": 36,
        "start_time": "2022-04-20T19:20:11.648Z"
      },
      {
        "duration": 20,
        "start_time": "2022-04-20T19:20:11.687Z"
      },
      {
        "duration": 31,
        "start_time": "2022-04-20T19:20:11.712Z"
      },
      {
        "duration": 52,
        "start_time": "2022-04-20T19:20:11.746Z"
      },
      {
        "duration": 54,
        "start_time": "2022-04-20T19:20:11.801Z"
      },
      {
        "duration": 44,
        "start_time": "2022-04-20T19:20:11.858Z"
      },
      {
        "duration": 14,
        "start_time": "2022-04-20T19:20:11.908Z"
      },
      {
        "duration": 342,
        "start_time": "2022-04-20T19:20:11.924Z"
      },
      {
        "duration": 24,
        "start_time": "2022-04-20T19:20:12.353Z"
      },
      {
        "duration": 30,
        "start_time": "2022-04-20T19:20:12.380Z"
      },
      {
        "duration": 15,
        "start_time": "2022-04-20T19:20:12.413Z"
      },
      {
        "duration": 16,
        "start_time": "2022-04-20T19:20:12.431Z"
      },
      {
        "duration": 10332,
        "start_time": "2022-04-20T19:20:12.453Z"
      },
      {
        "duration": 1290,
        "start_time": "2022-04-21T08:40:25.411Z"
      },
      {
        "duration": 259,
        "start_time": "2022-04-21T08:40:26.703Z"
      },
      {
        "duration": 5,
        "start_time": "2022-04-21T08:40:26.964Z"
      },
      {
        "duration": 4,
        "start_time": "2022-04-21T08:40:26.972Z"
      },
      {
        "duration": 5,
        "start_time": "2022-04-21T08:40:26.978Z"
      },
      {
        "duration": 348,
        "start_time": "2022-04-21T08:40:26.984Z"
      },
      {
        "duration": 1301,
        "start_time": "2022-04-21T08:40:27.333Z"
      },
      {
        "duration": 15,
        "start_time": "2022-04-21T08:40:28.636Z"
      },
      {
        "duration": 7,
        "start_time": "2022-04-21T08:40:28.653Z"
      },
      {
        "duration": 11,
        "start_time": "2022-04-21T08:40:28.662Z"
      },
      {
        "duration": 33,
        "start_time": "2022-04-21T08:40:28.675Z"
      },
      {
        "duration": 52,
        "start_time": "2022-04-21T08:40:28.710Z"
      },
      {
        "duration": 25,
        "start_time": "2022-04-21T08:40:28.764Z"
      },
      {
        "duration": 4,
        "start_time": "2022-04-21T08:40:28.791Z"
      },
      {
        "duration": 311,
        "start_time": "2022-04-21T08:40:28.797Z"
      },
      {
        "duration": 4,
        "start_time": "2022-04-21T08:40:50.116Z"
      },
      {
        "duration": 4,
        "start_time": "2022-04-21T08:40:51.300Z"
      },
      {
        "duration": 6,
        "start_time": "2022-04-21T08:40:53.708Z"
      },
      {
        "duration": 5,
        "start_time": "2022-04-21T08:40:54.787Z"
      },
      {
        "duration": 6,
        "start_time": "2022-04-21T08:41:45.165Z"
      },
      {
        "duration": 4687,
        "start_time": "2022-04-21T08:41:46.785Z"
      },
      {
        "duration": 3,
        "start_time": "2022-04-21T09:05:49.937Z"
      },
      {
        "duration": 5,
        "start_time": "2022-04-21T09:05:49.942Z"
      },
      {
        "duration": 7,
        "start_time": "2022-04-21T09:05:49.949Z"
      },
      {
        "duration": 5,
        "start_time": "2022-04-21T09:05:49.958Z"
      },
      {
        "duration": 4,
        "start_time": "2022-04-21T09:05:49.965Z"
      },
      {
        "duration": 345,
        "start_time": "2022-04-21T09:05:49.970Z"
      },
      {
        "duration": 1220,
        "start_time": "2022-04-21T09:05:50.317Z"
      },
      {
        "duration": 12,
        "start_time": "2022-04-21T09:05:51.539Z"
      },
      {
        "duration": 6,
        "start_time": "2022-04-21T09:05:51.552Z"
      },
      {
        "duration": 8,
        "start_time": "2022-04-21T09:05:51.560Z"
      },
      {
        "duration": 7,
        "start_time": "2022-04-21T09:05:51.571Z"
      },
      {
        "duration": 61,
        "start_time": "2022-04-21T09:05:51.579Z"
      },
      {
        "duration": 27,
        "start_time": "2022-04-21T09:05:51.642Z"
      },
      {
        "duration": 5,
        "start_time": "2022-04-21T09:05:51.670Z"
      },
      {
        "duration": 433,
        "start_time": "2022-04-21T09:05:51.676Z"
      },
      {
        "duration": 5,
        "start_time": "2022-04-21T09:05:52.112Z"
      },
      {
        "duration": 100,
        "start_time": "2022-04-21T09:05:52.119Z"
      },
      {
        "duration": 6,
        "start_time": "2022-04-21T09:05:52.224Z"
      },
      {
        "duration": 7,
        "start_time": "2022-04-21T09:05:52.232Z"
      },
      {
        "duration": 4914,
        "start_time": "2022-04-21T09:05:52.240Z"
      }
    ],
    "kernelspec": {
      "display_name": "Python 3 (ipykernel)",
      "language": "python",
      "name": "python3"
    },
    "language_info": {
      "codemirror_mode": {
        "name": "ipython",
        "version": 3
      },
      "file_extension": ".py",
      "mimetype": "text/x-python",
      "name": "python",
      "nbconvert_exporter": "python",
      "pygments_lexer": "ipython3",
      "version": "3.9.5"
    },
    "toc": {
      "base_numbering": 1,
      "nav_menu": {
        "height": "286px",
        "width": "409px"
      },
      "number_sections": true,
      "sideBar": true,
      "skip_h1_title": true,
      "title_cell": "Содерждание",
      "title_sidebar": "Содерждание",
      "toc_cell": true,
      "toc_position": {
        "height": "calc(100% - 180px)",
        "left": "10px",
        "top": "150px",
        "width": "494.391px"
      },
      "toc_section_display": true,
      "toc_window_display": true
    },
    "colab": {
      "provenance": []
    }
  },
  "nbformat": 4,
  "nbformat_minor": 0
}